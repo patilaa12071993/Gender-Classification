{
  "nbformat": 4,
  "nbformat_minor": 0,
  "metadata": {
    "colab": {
      "name": "Gender_Classification_LSTM.ipynb",
      "provenance": [],
      "collapsed_sections": []
    },
    "kernelspec": {
      "name": "python3",
      "display_name": "Python 3"
    },
    "language_info": {
      "name": "python"
    },
    "accelerator": "GPU"
  },
  "cells": [
    {
      "cell_type": "markdown",
      "source": [
        "**GENDER CLASSIFICATION USING LSTM**"
      ],
      "metadata": {
        "id": "jeRxH0Ixq2_z"
      }
    },
    {
      "cell_type": "markdown",
      "source": [
        "IMPORTING REQUIRED LIBRARIES"
      ],
      "metadata": {
        "id": "nzJqZrOMq-xA"
      }
    },
    {
      "cell_type": "code",
      "execution_count": 10,
      "metadata": {
        "id": "W6kxOmJlCfgw"
      },
      "outputs": [],
      "source": [
        "\n",
        "from __future__ import print_function\n",
        "\n",
        "from sklearn.preprocessing import OneHotEncoder\n",
        "from keras.layers.core import Dense, Activation, Dropout\n",
        "from keras.preprocessing import sequence\n",
        "from keras.models import Sequential\n",
        "from keras.layers import Dense, Embedding\n",
        "from keras.layers import LSTM\n",
        "from keras.datasets import imdb\n",
        "import pandas as pd\n",
        "import numpy as np\n",
        "import os"
      ]
    },
    {
      "cell_type": "code",
      "source": [
        "#parameters\n",
        "maxlen = 30\n",
        "labels = 2"
      ],
      "metadata": {
        "id": "CJW2mQBntAKJ"
      },
      "execution_count": 27,
      "outputs": []
    },
    {
      "cell_type": "markdown",
      "source": [
        "Google drive Mount for Importing input data CSV"
      ],
      "metadata": {
        "id": "13u0JBJtrDAJ"
      }
    },
    {
      "cell_type": "code",
      "source": [
        "from google.colab import drive\n",
        "\n",
        "drive.mount('/content/gdrive')"
      ],
      "metadata": {
        "colab": {
          "base_uri": "https://localhost:8080/"
        },
        "id": "pG1xWc5qi4pJ",
        "outputId": "79bbac47-a73c-43e1-82f2-b3db2df7345f"
      },
      "execution_count": 11,
      "outputs": [
        {
          "output_type": "stream",
          "name": "stdout",
          "text": [
            "Drive already mounted at /content/gdrive; to attempt to forcibly remount, call drive.mount(\"/content/gdrive\", force_remount=True).\n"
          ]
        }
      ]
    },
    {
      "cell_type": "markdown",
      "source": [
        "Path from Google drive"
      ],
      "metadata": {
        "id": "HXMGzIv9rK8A"
      }
    },
    {
      "cell_type": "code",
      "source": [
        "path = \"/content/gdrive/MyDrive/Colab Notebooks/name_gender.csv\"\n"
      ],
      "metadata": {
        "id": "rXv-AtExlqDv"
      },
      "execution_count": 12,
      "outputs": []
    },
    {
      "cell_type": "code",
      "source": [
        "input = pd.read_csv(path)"
      ],
      "metadata": {
        "id": "duZWWM70h5TK"
      },
      "execution_count": 13,
      "outputs": []
    },
    {
      "cell_type": "code",
      "source": [
        "df1=input\n",
        "df1"
      ],
      "metadata": {
        "colab": {
          "base_uri": "https://localhost:8080/",
          "height": 424
        },
        "id": "e_R6ZGQU2Qi1",
        "outputId": "b172c290-b9d1-4754-f0c9-ed67f570127a"
      },
      "execution_count": 14,
      "outputs": [
        {
          "output_type": "execute_result",
          "data": {
            "text/html": [
              "\n",
              "  <div id=\"df-8709b52b-68a9-4692-a1b3-84d59a236b40\">\n",
              "    <div class=\"colab-df-container\">\n",
              "      <div>\n",
              "<style scoped>\n",
              "    .dataframe tbody tr th:only-of-type {\n",
              "        vertical-align: middle;\n",
              "    }\n",
              "\n",
              "    .dataframe tbody tr th {\n",
              "        vertical-align: top;\n",
              "    }\n",
              "\n",
              "    .dataframe thead th {\n",
              "        text-align: right;\n",
              "    }\n",
              "</style>\n",
              "<table border=\"1\" class=\"dataframe\">\n",
              "  <thead>\n",
              "    <tr style=\"text-align: right;\">\n",
              "      <th></th>\n",
              "      <th>name</th>\n",
              "      <th>gender</th>\n",
              "    </tr>\n",
              "  </thead>\n",
              "  <tbody>\n",
              "    <tr>\n",
              "      <th>0</th>\n",
              "      <td>Aaban&amp;&amp;</td>\n",
              "      <td>M</td>\n",
              "    </tr>\n",
              "    <tr>\n",
              "      <th>1</th>\n",
              "      <td>Aabha*</td>\n",
              "      <td>F</td>\n",
              "    </tr>\n",
              "    <tr>\n",
              "      <th>2</th>\n",
              "      <td>Aabid</td>\n",
              "      <td>M</td>\n",
              "    </tr>\n",
              "    <tr>\n",
              "      <th>3</th>\n",
              "      <td>Aabriella</td>\n",
              "      <td>F</td>\n",
              "    </tr>\n",
              "    <tr>\n",
              "      <th>4</th>\n",
              "      <td>Aada_</td>\n",
              "      <td>F</td>\n",
              "    </tr>\n",
              "    <tr>\n",
              "      <th>...</th>\n",
              "      <td>...</td>\n",
              "      <td>...</td>\n",
              "    </tr>\n",
              "    <tr>\n",
              "      <th>95020</th>\n",
              "      <td>Zyvion</td>\n",
              "      <td>M</td>\n",
              "    </tr>\n",
              "    <tr>\n",
              "      <th>95021</th>\n",
              "      <td>Zyvon</td>\n",
              "      <td>M</td>\n",
              "    </tr>\n",
              "    <tr>\n",
              "      <th>95022</th>\n",
              "      <td>Zyyanna</td>\n",
              "      <td>F</td>\n",
              "    </tr>\n",
              "    <tr>\n",
              "      <th>95023</th>\n",
              "      <td>Zyyon</td>\n",
              "      <td>M</td>\n",
              "    </tr>\n",
              "    <tr>\n",
              "      <th>95024</th>\n",
              "      <td>Zzyzx</td>\n",
              "      <td>M</td>\n",
              "    </tr>\n",
              "  </tbody>\n",
              "</table>\n",
              "<p>95025 rows × 2 columns</p>\n",
              "</div>\n",
              "      <button class=\"colab-df-convert\" onclick=\"convertToInteractive('df-8709b52b-68a9-4692-a1b3-84d59a236b40')\"\n",
              "              title=\"Convert this dataframe to an interactive table.\"\n",
              "              style=\"display:none;\">\n",
              "        \n",
              "  <svg xmlns=\"http://www.w3.org/2000/svg\" height=\"24px\"viewBox=\"0 0 24 24\"\n",
              "       width=\"24px\">\n",
              "    <path d=\"M0 0h24v24H0V0z\" fill=\"none\"/>\n",
              "    <path d=\"M18.56 5.44l.94 2.06.94-2.06 2.06-.94-2.06-.94-.94-2.06-.94 2.06-2.06.94zm-11 1L8.5 8.5l.94-2.06 2.06-.94-2.06-.94L8.5 2.5l-.94 2.06-2.06.94zm10 10l.94 2.06.94-2.06 2.06-.94-2.06-.94-.94-2.06-.94 2.06-2.06.94z\"/><path d=\"M17.41 7.96l-1.37-1.37c-.4-.4-.92-.59-1.43-.59-.52 0-1.04.2-1.43.59L10.3 9.45l-7.72 7.72c-.78.78-.78 2.05 0 2.83L4 21.41c.39.39.9.59 1.41.59.51 0 1.02-.2 1.41-.59l7.78-7.78 2.81-2.81c.8-.78.8-2.07 0-2.86zM5.41 20L4 18.59l7.72-7.72 1.47 1.35L5.41 20z\"/>\n",
              "  </svg>\n",
              "      </button>\n",
              "      \n",
              "  <style>\n",
              "    .colab-df-container {\n",
              "      display:flex;\n",
              "      flex-wrap:wrap;\n",
              "      gap: 12px;\n",
              "    }\n",
              "\n",
              "    .colab-df-convert {\n",
              "      background-color: #E8F0FE;\n",
              "      border: none;\n",
              "      border-radius: 50%;\n",
              "      cursor: pointer;\n",
              "      display: none;\n",
              "      fill: #1967D2;\n",
              "      height: 32px;\n",
              "      padding: 0 0 0 0;\n",
              "      width: 32px;\n",
              "    }\n",
              "\n",
              "    .colab-df-convert:hover {\n",
              "      background-color: #E2EBFA;\n",
              "      box-shadow: 0px 1px 2px rgba(60, 64, 67, 0.3), 0px 1px 3px 1px rgba(60, 64, 67, 0.15);\n",
              "      fill: #174EA6;\n",
              "    }\n",
              "\n",
              "    [theme=dark] .colab-df-convert {\n",
              "      background-color: #3B4455;\n",
              "      fill: #D2E3FC;\n",
              "    }\n",
              "\n",
              "    [theme=dark] .colab-df-convert:hover {\n",
              "      background-color: #434B5C;\n",
              "      box-shadow: 0px 1px 3px 1px rgba(0, 0, 0, 0.15);\n",
              "      filter: drop-shadow(0px 1px 2px rgba(0, 0, 0, 0.3));\n",
              "      fill: #FFFFFF;\n",
              "    }\n",
              "  </style>\n",
              "\n",
              "      <script>\n",
              "        const buttonEl =\n",
              "          document.querySelector('#df-8709b52b-68a9-4692-a1b3-84d59a236b40 button.colab-df-convert');\n",
              "        buttonEl.style.display =\n",
              "          google.colab.kernel.accessAllowed ? 'block' : 'none';\n",
              "\n",
              "        async function convertToInteractive(key) {\n",
              "          const element = document.querySelector('#df-8709b52b-68a9-4692-a1b3-84d59a236b40');\n",
              "          const dataTable =\n",
              "            await google.colab.kernel.invokeFunction('convertToInteractive',\n",
              "                                                     [key], {});\n",
              "          if (!dataTable) return;\n",
              "\n",
              "          const docLinkHtml = 'Like what you see? Visit the ' +\n",
              "            '<a target=\"_blank\" href=https://colab.research.google.com/notebooks/data_table.ipynb>data table notebook</a>'\n",
              "            + ' to learn more about interactive tables.';\n",
              "          element.innerHTML = '';\n",
              "          dataTable['output_type'] = 'display_data';\n",
              "          await google.colab.output.renderOutput(dataTable, element);\n",
              "          const docLink = document.createElement('div');\n",
              "          docLink.innerHTML = docLinkHtml;\n",
              "          element.appendChild(docLink);\n",
              "        }\n",
              "      </script>\n",
              "    </div>\n",
              "  </div>\n",
              "  "
            ],
            "text/plain": [
              "            name gender\n",
              "0        Aaban&&      M\n",
              "1         Aabha*      F\n",
              "2          Aabid      M\n",
              "3      Aabriella      F\n",
              "4          Aada_      F\n",
              "...          ...    ...\n",
              "95020     Zyvion      M\n",
              "95021      Zyvon      M\n",
              "95022    Zyyanna      F\n",
              "95023      Zyyon      M\n",
              "95024      Zzyzx      M\n",
              "\n",
              "[95025 rows x 2 columns]"
            ]
          },
          "metadata": {},
          "execution_count": 14
        }
      ]
    },
    {
      "cell_type": "markdown",
      "source": [
        "Filtering only alphabets aand removing numerics and spacial Characters"
      ],
      "metadata": {
        "id": "cIIZMMqzrTFn"
      }
    },
    {
      "cell_type": "code",
      "source": [
        "def alphabets(element):\n",
        "    \n",
        "    return \"\".join(filter(str.isalpha, element))"
      ],
      "metadata": {
        "id": "hq_dmUhw2CaQ"
      },
      "execution_count": 15,
      "outputs": []
    },
    {
      "cell_type": "code",
      "source": [
        "df1.name = [alphabets(x) for x in df1.name]\n",
        "df1['name']=df1['name'].str.lower()\n",
        "df1"
      ],
      "metadata": {
        "colab": {
          "base_uri": "https://localhost:8080/",
          "height": 424
        },
        "id": "MJTqstjx2CkE",
        "outputId": "dd7fe1ce-943d-4eb8-c9a6-195f18cc8793"
      },
      "execution_count": 16,
      "outputs": [
        {
          "output_type": "execute_result",
          "data": {
            "text/html": [
              "\n",
              "  <div id=\"df-c8574107-015d-4cce-85a2-10ec2f7c9f1f\">\n",
              "    <div class=\"colab-df-container\">\n",
              "      <div>\n",
              "<style scoped>\n",
              "    .dataframe tbody tr th:only-of-type {\n",
              "        vertical-align: middle;\n",
              "    }\n",
              "\n",
              "    .dataframe tbody tr th {\n",
              "        vertical-align: top;\n",
              "    }\n",
              "\n",
              "    .dataframe thead th {\n",
              "        text-align: right;\n",
              "    }\n",
              "</style>\n",
              "<table border=\"1\" class=\"dataframe\">\n",
              "  <thead>\n",
              "    <tr style=\"text-align: right;\">\n",
              "      <th></th>\n",
              "      <th>name</th>\n",
              "      <th>gender</th>\n",
              "    </tr>\n",
              "  </thead>\n",
              "  <tbody>\n",
              "    <tr>\n",
              "      <th>0</th>\n",
              "      <td>aaban</td>\n",
              "      <td>M</td>\n",
              "    </tr>\n",
              "    <tr>\n",
              "      <th>1</th>\n",
              "      <td>aabha</td>\n",
              "      <td>F</td>\n",
              "    </tr>\n",
              "    <tr>\n",
              "      <th>2</th>\n",
              "      <td>aabid</td>\n",
              "      <td>M</td>\n",
              "    </tr>\n",
              "    <tr>\n",
              "      <th>3</th>\n",
              "      <td>aabriella</td>\n",
              "      <td>F</td>\n",
              "    </tr>\n",
              "    <tr>\n",
              "      <th>4</th>\n",
              "      <td>aada</td>\n",
              "      <td>F</td>\n",
              "    </tr>\n",
              "    <tr>\n",
              "      <th>...</th>\n",
              "      <td>...</td>\n",
              "      <td>...</td>\n",
              "    </tr>\n",
              "    <tr>\n",
              "      <th>95020</th>\n",
              "      <td>zyvion</td>\n",
              "      <td>M</td>\n",
              "    </tr>\n",
              "    <tr>\n",
              "      <th>95021</th>\n",
              "      <td>zyvon</td>\n",
              "      <td>M</td>\n",
              "    </tr>\n",
              "    <tr>\n",
              "      <th>95022</th>\n",
              "      <td>zyyanna</td>\n",
              "      <td>F</td>\n",
              "    </tr>\n",
              "    <tr>\n",
              "      <th>95023</th>\n",
              "      <td>zyyon</td>\n",
              "      <td>M</td>\n",
              "    </tr>\n",
              "    <tr>\n",
              "      <th>95024</th>\n",
              "      <td>zzyzx</td>\n",
              "      <td>M</td>\n",
              "    </tr>\n",
              "  </tbody>\n",
              "</table>\n",
              "<p>95025 rows × 2 columns</p>\n",
              "</div>\n",
              "      <button class=\"colab-df-convert\" onclick=\"convertToInteractive('df-c8574107-015d-4cce-85a2-10ec2f7c9f1f')\"\n",
              "              title=\"Convert this dataframe to an interactive table.\"\n",
              "              style=\"display:none;\">\n",
              "        \n",
              "  <svg xmlns=\"http://www.w3.org/2000/svg\" height=\"24px\"viewBox=\"0 0 24 24\"\n",
              "       width=\"24px\">\n",
              "    <path d=\"M0 0h24v24H0V0z\" fill=\"none\"/>\n",
              "    <path d=\"M18.56 5.44l.94 2.06.94-2.06 2.06-.94-2.06-.94-.94-2.06-.94 2.06-2.06.94zm-11 1L8.5 8.5l.94-2.06 2.06-.94-2.06-.94L8.5 2.5l-.94 2.06-2.06.94zm10 10l.94 2.06.94-2.06 2.06-.94-2.06-.94-.94-2.06-.94 2.06-2.06.94z\"/><path d=\"M17.41 7.96l-1.37-1.37c-.4-.4-.92-.59-1.43-.59-.52 0-1.04.2-1.43.59L10.3 9.45l-7.72 7.72c-.78.78-.78 2.05 0 2.83L4 21.41c.39.39.9.59 1.41.59.51 0 1.02-.2 1.41-.59l7.78-7.78 2.81-2.81c.8-.78.8-2.07 0-2.86zM5.41 20L4 18.59l7.72-7.72 1.47 1.35L5.41 20z\"/>\n",
              "  </svg>\n",
              "      </button>\n",
              "      \n",
              "  <style>\n",
              "    .colab-df-container {\n",
              "      display:flex;\n",
              "      flex-wrap:wrap;\n",
              "      gap: 12px;\n",
              "    }\n",
              "\n",
              "    .colab-df-convert {\n",
              "      background-color: #E8F0FE;\n",
              "      border: none;\n",
              "      border-radius: 50%;\n",
              "      cursor: pointer;\n",
              "      display: none;\n",
              "      fill: #1967D2;\n",
              "      height: 32px;\n",
              "      padding: 0 0 0 0;\n",
              "      width: 32px;\n",
              "    }\n",
              "\n",
              "    .colab-df-convert:hover {\n",
              "      background-color: #E2EBFA;\n",
              "      box-shadow: 0px 1px 2px rgba(60, 64, 67, 0.3), 0px 1px 3px 1px rgba(60, 64, 67, 0.15);\n",
              "      fill: #174EA6;\n",
              "    }\n",
              "\n",
              "    [theme=dark] .colab-df-convert {\n",
              "      background-color: #3B4455;\n",
              "      fill: #D2E3FC;\n",
              "    }\n",
              "\n",
              "    [theme=dark] .colab-df-convert:hover {\n",
              "      background-color: #434B5C;\n",
              "      box-shadow: 0px 1px 3px 1px rgba(0, 0, 0, 0.15);\n",
              "      filter: drop-shadow(0px 1px 2px rgba(0, 0, 0, 0.3));\n",
              "      fill: #FFFFFF;\n",
              "    }\n",
              "  </style>\n",
              "\n",
              "      <script>\n",
              "        const buttonEl =\n",
              "          document.querySelector('#df-c8574107-015d-4cce-85a2-10ec2f7c9f1f button.colab-df-convert');\n",
              "        buttonEl.style.display =\n",
              "          google.colab.kernel.accessAllowed ? 'block' : 'none';\n",
              "\n",
              "        async function convertToInteractive(key) {\n",
              "          const element = document.querySelector('#df-c8574107-015d-4cce-85a2-10ec2f7c9f1f');\n",
              "          const dataTable =\n",
              "            await google.colab.kernel.invokeFunction('convertToInteractive',\n",
              "                                                     [key], {});\n",
              "          if (!dataTable) return;\n",
              "\n",
              "          const docLinkHtml = 'Like what you see? Visit the ' +\n",
              "            '<a target=\"_blank\" href=https://colab.research.google.com/notebooks/data_table.ipynb>data table notebook</a>'\n",
              "            + ' to learn more about interactive tables.';\n",
              "          element.innerHTML = '';\n",
              "          dataTable['output_type'] = 'display_data';\n",
              "          await google.colab.output.renderOutput(dataTable, element);\n",
              "          const docLink = document.createElement('div');\n",
              "          docLink.innerHTML = docLinkHtml;\n",
              "          element.appendChild(docLink);\n",
              "        }\n",
              "      </script>\n",
              "    </div>\n",
              "  </div>\n",
              "  "
            ],
            "text/plain": [
              "            name gender\n",
              "0          aaban      M\n",
              "1          aabha      F\n",
              "2          aabid      M\n",
              "3      aabriella      F\n",
              "4           aada      F\n",
              "...          ...    ...\n",
              "95020     zyvion      M\n",
              "95021      zyvon      M\n",
              "95022    zyyanna      F\n",
              "95023      zyyon      M\n",
              "95024      zzyzx      M\n",
              "\n",
              "[95025 rows x 2 columns]"
            ]
          },
          "metadata": {},
          "execution_count": 16
        }
      ]
    },
    {
      "cell_type": "code",
      "source": [
        "input=df1"
      ],
      "metadata": {
        "id": "v7SRKpWR4SRF"
      },
      "execution_count": 17,
      "outputs": []
    },
    {
      "cell_type": "code",
      "source": [
        "input.columns = ['name','m_or_f']\n",
        "input['namelen']= [len(str(i)) for i in input['name']]\n",
        "input1 = input[(input['namelen'] >= 2) ]\n"
      ],
      "metadata": {
        "id": "s980G4W9q8M2"
      },
      "execution_count": 18,
      "outputs": []
    },
    {
      "cell_type": "code",
      "source": [
        "input1.groupby('m_or_f')['name'].count()"
      ],
      "metadata": {
        "id": "GFeJATftq8PH",
        "colab": {
          "base_uri": "https://localhost:8080/"
        },
        "outputId": "2c74e825-a5b2-48fa-d180-3e15352a3b21"
      },
      "execution_count": 19,
      "outputs": [
        {
          "output_type": "execute_result",
          "data": {
            "text/plain": [
              "m_or_f\n",
              "F    60304\n",
              "M    34721\n",
              "Name: name, dtype: int64"
            ]
          },
          "metadata": {},
          "execution_count": 19
        }
      ]
    },
    {
      "cell_type": "code",
      "source": [
        "names = input['name']\n",
        "gender = input['m_or_f']\n",
        "vocab = set(' '.join([str(i) for i in names]))\n",
        "vocab.add('END')\n",
        "len_vocab = len(vocab)"
      ],
      "metadata": {
        "id": "a4GpsYauq8UD"
      },
      "execution_count": 20,
      "outputs": []
    },
    {
      "cell_type": "markdown",
      "source": [
        "Identifying Vocabulary and length of vocabulary words"
      ],
      "metadata": {
        "id": "opT3GZiJreEY"
      }
    },
    {
      "cell_type": "code",
      "source": [
        "print(vocab)\n",
        "print(\"vocab length is \",len_vocab)\n",
        "print (\"length of input is \",len(input1))"
      ],
      "metadata": {
        "colab": {
          "base_uri": "https://localhost:8080/"
        },
        "id": "qzH5TxbUp44R",
        "outputId": "af06d418-fc17-4994-f6f2-30038b2b6eaf"
      },
      "execution_count": 21,
      "outputs": [
        {
          "output_type": "stream",
          "name": "stdout",
          "text": [
            "{'w', 'u', 'd', 'v', 'a', 't', 'n', 'p', 'r', 'g', 'q', 'y', 'x', 'b', 's', 'k', 'END', ' ', 'l', 'h', 'c', 'f', 'e', 'z', 'i', 'm', 'j', 'o'}\n",
            "vocab length is  28\n",
            "length of input is  95025\n"
          ]
        }
      ]
    },
    {
      "cell_type": "code",
      "source": [
        "char_index = dict((c, i) for i, c in enumerate(vocab))"
      ],
      "metadata": {
        "id": "t0iswoBSp49l"
      },
      "execution_count": 22,
      "outputs": []
    },
    {
      "cell_type": "code",
      "source": [
        "print(char_index)"
      ],
      "metadata": {
        "colab": {
          "base_uri": "https://localhost:8080/"
        },
        "id": "6KgkVBeEp5A9",
        "outputId": "d565f70c-0169-4373-f6f6-11c2e7d8fa4f"
      },
      "execution_count": 23,
      "outputs": [
        {
          "output_type": "stream",
          "name": "stdout",
          "text": [
            "{'w': 0, 'u': 1, 'd': 2, 'v': 3, 'a': 4, 't': 5, 'n': 6, 'p': 7, 'r': 8, 'g': 9, 'q': 10, 'y': 11, 'x': 12, 'b': 13, 's': 14, 'k': 15, 'END': 16, ' ': 17, 'l': 18, 'h': 19, 'c': 20, 'f': 21, 'e': 22, 'z': 23, 'i': 24, 'm': 25, 'j': 26, 'o': 27}\n"
          ]
        }
      ]
    },
    {
      "cell_type": "code",
      "source": [
        "#train test split\n",
        "msk = np.random.rand(len(input1)) < 0.8\n",
        "train = input1[msk]\n",
        "test = input1[~msk]    "
      ],
      "metadata": {
        "id": "anHp0VBJp5DS"
      },
      "execution_count": 24,
      "outputs": []
    },
    {
      "cell_type": "code",
      "source": [
        "#take input upto max and truncate rest\n",
        "#encode to vector space(one hot encoding)\n",
        "#padd 'END' to shorter sequences\n",
        "train_X = []\n",
        "trunc_train_name = [str(i)[0:30] for i in train.name]\n",
        "for i in trunc_train_name:\n",
        "    tmp = [char_index[j] for j in str(i)]\n",
        "    for k in range(0,maxlen - len(str(i))):\n",
        "        tmp.append(char_index[\"END\"])\n",
        "    train_X.append(tmp)"
      ],
      "metadata": {
        "id": "hltAulsfp5FO"
      },
      "execution_count": 28,
      "outputs": []
    },
    {
      "cell_type": "markdown",
      "source": [
        "Changing datatype to numpy array"
      ],
      "metadata": {
        "id": "r380582WrsnY"
      }
    },
    {
      "cell_type": "code",
      "source": [
        "train_X=np.asarray(train_X)"
      ],
      "metadata": {
        "id": "7BICSQtyp5G5"
      },
      "execution_count": 29,
      "outputs": []
    },
    {
      "cell_type": "code",
      "source": [
        "train_X.shape"
      ],
      "metadata": {
        "colab": {
          "base_uri": "https://localhost:8080/"
        },
        "id": "GFwhTMm3utoL",
        "outputId": "9de51394-170f-4545-dad0-53076e9dd41b"
      },
      "execution_count": 30,
      "outputs": [
        {
          "output_type": "execute_result",
          "data": {
            "text/plain": [
              "(76071, 30)"
            ]
          },
          "metadata": {},
          "execution_count": 30
        }
      ]
    },
    {
      "cell_type": "code",
      "source": [
        "def set_flag(i):\n",
        "    tmp = np.zeros(28);\n",
        "    tmp[i] = 1\n",
        "    return(tmp)"
      ],
      "metadata": {
        "id": "xinxjULCp5K5"
      },
      "execution_count": 31,
      "outputs": []
    },
    {
      "cell_type": "code",
      "source": [
        "set_flag(3)"
      ],
      "metadata": {
        "colab": {
          "base_uri": "https://localhost:8080/"
        },
        "id": "x26mliNRp5RR",
        "outputId": "c8ba7f53-a973-46a8-af4c-8f0ab44060cc"
      },
      "execution_count": 32,
      "outputs": [
        {
          "output_type": "execute_result",
          "data": {
            "text/plain": [
              "array([0., 0., 0., 1., 0., 0., 0., 0., 0., 0., 0., 0., 0., 0., 0., 0., 0.,\n",
              "       0., 0., 0., 0., 0., 0., 0., 0., 0., 0., 0.])"
            ]
          },
          "metadata": {},
          "execution_count": 32
        }
      ]
    },
    {
      "cell_type": "code",
      "source": [
        "#take input upto max and truncate rest\n",
        "#encode to vector space(one hot encoding)\n",
        "#padd 'END' to shorter sequences\n",
        "#also convert each index to one-hot encoding\n",
        "train_X = []\n",
        "train_Y = []\n",
        "trunc_train_name = [str(i)[0:maxlen] for i in train.name]\n",
        "for i in trunc_train_name:\n",
        "    tmp = [set_flag(char_index[j]) for j in str(i)]\n",
        "    for k in range(0,maxlen - len(str(i))):\n",
        "        tmp.append(set_flag(char_index[\"END\"]))\n",
        "    train_X.append(tmp)\n",
        "for i in train.m_or_f:\n",
        "    if i == 'M':\n",
        "        train_Y.append([1,0])\n",
        "    else:\n",
        "        train_Y.append([0,1])\n",
        "    "
      ],
      "metadata": {
        "id": "o6WY-riNqNek"
      },
      "execution_count": 33,
      "outputs": []
    },
    {
      "cell_type": "code",
      "source": [
        "train_X=np.asarray(train_X)"
      ],
      "metadata": {
        "id": "VljvFRO_qNgB"
      },
      "execution_count": 34,
      "outputs": []
    },
    {
      "cell_type": "code",
      "source": [
        "train_X.shape"
      ],
      "metadata": {
        "colab": {
          "base_uri": "https://localhost:8080/"
        },
        "id": "AVTcMQh0vAN8",
        "outputId": "3b2b3284-1538-4526-d359-1d6199ec3c73"
      },
      "execution_count": 35,
      "outputs": [
        {
          "output_type": "execute_result",
          "data": {
            "text/plain": [
              "(76071, 30, 28)"
            ]
          },
          "metadata": {},
          "execution_count": 35
        }
      ]
    },
    {
      "cell_type": "code",
      "source": [
        "train_Y=np.asarray(train_Y)"
      ],
      "metadata": {
        "id": "yOMEIb7SqOcM"
      },
      "execution_count": 36,
      "outputs": []
    },
    {
      "cell_type": "code",
      "source": [
        "train_Y.shape"
      ],
      "metadata": {
        "colab": {
          "base_uri": "https://localhost:8080/"
        },
        "id": "lBjqScOpvI-y",
        "outputId": "69b37ffa-b935-40a0-d208-c802bca29554"
      },
      "execution_count": 37,
      "outputs": [
        {
          "output_type": "execute_result",
          "data": {
            "text/plain": [
              "(76071, 2)"
            ]
          },
          "metadata": {},
          "execution_count": 37
        }
      ]
    },
    {
      "cell_type": "markdown",
      "source": [
        "**Model building**"
      ],
      "metadata": {
        "id": "zjv28myFr0Bx"
      }
    },
    {
      "cell_type": "code",
      "source": [
        "#build the model: 2 stacked LSTM\n",
        "print('Build model...')\n",
        "model = Sequential()\n",
        "model.add(LSTM(512, return_sequences=True, input_shape=(maxlen,len_vocab)))\n",
        "model.add(Dropout(0.2))\n",
        "model.add(LSTM(512, return_sequences=False))\n",
        "model.add(Dropout(0.2))\n",
        "model.add(Dense(2))\n",
        "model.add(Activation('softmax'))\n",
        "model.compile(loss='categorical_crossentropy', optimizer='adam',metrics=['accuracy'])"
      ],
      "metadata": {
        "colab": {
          "base_uri": "https://localhost:8080/"
        },
        "id": "h7LGm_FZqOje",
        "outputId": "e8a22988-e08e-4939-b42d-fe56735ac3ef"
      },
      "execution_count": 38,
      "outputs": [
        {
          "output_type": "stream",
          "name": "stdout",
          "text": [
            "Build model...\n"
          ]
        }
      ]
    },
    {
      "cell_type": "code",
      "source": [
        "test_X = []\n",
        "test_Y = []\n",
        "trunc_test_name = [str(i)[0:maxlen] for i in test.name]\n",
        "for i in trunc_test_name:\n",
        "    tmp = [set_flag(char_index[j]) for j in str(i)]\n",
        "    for k in range(0,maxlen - len(str(i))):\n",
        "        tmp.append(set_flag(char_index[\"END\"]))\n",
        "    test_X.append(tmp)\n",
        "for i in test.m_or_f:\n",
        "    if i == 'M':\n",
        "        test_Y.append([1,0])\n",
        "    else:\n",
        "        test_Y.append([0,1])"
      ],
      "metadata": {
        "id": "RxCkwV8NqOoN"
      },
      "execution_count": 39,
      "outputs": []
    },
    {
      "cell_type": "code",
      "source": [
        "test_X=np.asarray(test_X)"
      ],
      "metadata": {
        "id": "NNZuU2LXqOra"
      },
      "execution_count": 40,
      "outputs": []
    },
    {
      "cell_type": "code",
      "source": [
        "test_Y=np.asarray(test_Y)"
      ],
      "metadata": {
        "id": "Kka_0nn1vQxH"
      },
      "execution_count": 41,
      "outputs": []
    },
    {
      "cell_type": "code",
      "source": [
        "print(np.asarray(test_X).shape)\n",
        "print(np.asarray(test_Y).shape)"
      ],
      "metadata": {
        "colab": {
          "base_uri": "https://localhost:8080/"
        },
        "id": "5Ujv9s8qvREH",
        "outputId": "0f2769a0-a411-4b5a-92e6-a9d320ff12b6"
      },
      "execution_count": 42,
      "outputs": [
        {
          "output_type": "stream",
          "name": "stdout",
          "text": [
            "(18954, 30, 28)\n",
            "(18954, 2)\n"
          ]
        }
      ]
    },
    {
      "cell_type": "markdown",
      "source": [
        "**Model Fitting and Hyperparameter Tuning**"
      ],
      "metadata": {
        "id": "p7o_9y3br4jZ"
      }
    },
    {
      "cell_type": "code",
      "source": [
        "batch_size=1000\n",
        "model.fit(train_X, train_Y,batch_size=batch_size,epochs=10,validation_data=(test_X, test_Y))"
      ],
      "metadata": {
        "colab": {
          "base_uri": "https://localhost:8080/"
        },
        "id": "VNtn0zbSqOv9",
        "outputId": "5a71ae8e-379a-466a-c04b-1787ee4da9b3"
      },
      "execution_count": 43,
      "outputs": [
        {
          "output_type": "stream",
          "name": "stdout",
          "text": [
            "Epoch 1/10\n",
            "77/77 [==============================] - 36s 367ms/step - loss: 0.6018 - accuracy: 0.6751 - val_loss: 0.5789 - val_accuracy: 0.6964\n",
            "Epoch 2/10\n",
            "77/77 [==============================] - 27s 357ms/step - loss: 0.4944 - accuracy: 0.7638 - val_loss: 0.4632 - val_accuracy: 0.7896\n",
            "Epoch 3/10\n",
            "77/77 [==============================] - 28s 360ms/step - loss: 0.4346 - accuracy: 0.8019 - val_loss: 0.3919 - val_accuracy: 0.8262\n",
            "Epoch 4/10\n",
            "77/77 [==============================] - 28s 360ms/step - loss: 0.3840 - accuracy: 0.8310 - val_loss: 0.3745 - val_accuracy: 0.8317\n",
            "Epoch 5/10\n",
            "77/77 [==============================] - 28s 359ms/step - loss: 0.3642 - accuracy: 0.8409 - val_loss: 0.3507 - val_accuracy: 0.8472\n",
            "Epoch 6/10\n",
            "77/77 [==============================] - 28s 360ms/step - loss: 0.3488 - accuracy: 0.8496 - val_loss: 0.3663 - val_accuracy: 0.8365\n",
            "Epoch 7/10\n",
            "77/77 [==============================] - 28s 359ms/step - loss: 0.3421 - accuracy: 0.8514 - val_loss: 0.3278 - val_accuracy: 0.8583\n",
            "Epoch 8/10\n",
            "77/77 [==============================] - 28s 360ms/step - loss: 0.3244 - accuracy: 0.8608 - val_loss: 0.3143 - val_accuracy: 0.8628\n",
            "Epoch 9/10\n",
            "77/77 [==============================] - 28s 360ms/step - loss: 0.3145 - accuracy: 0.8659 - val_loss: 0.3139 - val_accuracy: 0.8667\n",
            "Epoch 10/10\n",
            "77/77 [==============================] - 28s 359ms/step - loss: 0.3048 - accuracy: 0.8703 - val_loss: 0.3135 - val_accuracy: 0.8668\n"
          ]
        },
        {
          "output_type": "execute_result",
          "data": {
            "text/plain": [
              "<keras.callbacks.History at 0x7fa1be83a190>"
            ]
          },
          "metadata": {},
          "execution_count": 43
        }
      ]
    },
    {
      "cell_type": "code",
      "source": [
        "score, acc = model.evaluate(test_X, test_Y)\n",
        "print('Test score:', score)\n",
        "print('Test accuracy:', acc)"
      ],
      "metadata": {
        "colab": {
          "base_uri": "https://localhost:8080/"
        },
        "id": "IvRZrHVrrFu6",
        "outputId": "5e02dff2-50e6-4682-dc84-293ddf8e0183"
      },
      "execution_count": 44,
      "outputs": [
        {
          "output_type": "stream",
          "name": "stdout",
          "text": [
            "593/593 [==============================] - 9s 15ms/step - loss: 0.3135 - accuracy: 0.8668\n",
            "Test score: 0.31346431374549866\n",
            "Test accuracy: 0.8667827248573303\n"
          ]
        }
      ]
    },
    {
      "cell_type": "code",
      "source": [
        "name=[\"sandhya\",\"jaspreet\",\"rajesh\",\"kaveri\",\"aditi deepak\",\"arihant\",\"sasikala\",\"aditi\",\"ragini rajaram\"]\n",
        "X=[]\n",
        "trunc_name = [i[0:maxlen] for i in name]\n",
        "for i in trunc_name:\n",
        "    tmp = [set_flag(char_index[j]) for j in str(i)]\n",
        "    for k in range(0,maxlen - len(str(i))):\n",
        "        tmp.append(set_flag(char_index[\"END\"]))\n",
        "    X.append(tmp)\n",
        "pred=model.predict(np.asarray(X))\n",
        "pred"
      ],
      "metadata": {
        "colab": {
          "base_uri": "https://localhost:8080/"
        },
        "id": "hOa0femJrFzg",
        "outputId": "c47d4a00-5cd4-4a82-ed34-a4a2179c10cc"
      },
      "execution_count": 45,
      "outputs": [
        {
          "output_type": "execute_result",
          "data": {
            "text/plain": [
              "array([[0.01947986, 0.9805202 ],\n",
              "       [0.27311394, 0.72688603],\n",
              "       [0.8353916 , 0.16460846],\n",
              "       [0.16387771, 0.83612233],\n",
              "       [0.53243554, 0.46756446],\n",
              "       [0.65861756, 0.34138238],\n",
              "       [0.10805432, 0.89194566],\n",
              "       [0.04642663, 0.9535734 ],\n",
              "       [0.45527634, 0.54472363]], dtype=float32)"
            ]
          },
          "metadata": {},
          "execution_count": 45
        }
      ]
    },
    {
      "cell_type": "code",
      "source": [
        "name=[\"aadhira\",\"aabid\"]\n",
        "X=[]\n",
        "trunc_name = [i[0:maxlen] for i in name]\n",
        "for i in trunc_name:\n",
        "    tmp = [set_flag(char_index[j]) for j in str(i)]\n",
        "    for k in range(0,maxlen - len(str(i))):\n",
        "        tmp.append(set_flag(char_index[\"END\"]))\n",
        "    X.append(tmp)\n",
        "pred=model.predict(np.asarray(X))\n",
        "pred"
      ],
      "metadata": {
        "colab": {
          "base_uri": "https://localhost:8080/"
        },
        "id": "TDImRpL5rF6K",
        "outputId": "c9b3b68a-ff7d-407a-bfb7-b529f2b67d2b"
      },
      "execution_count": 46,
      "outputs": [
        {
          "output_type": "execute_result",
          "data": {
            "text/plain": [
              "array([[0.0137256 , 0.9862744 ],\n",
              "       [0.74699855, 0.25300145]], dtype=float32)"
            ]
          },
          "metadata": {},
          "execution_count": 46
        }
      ]
    },
    {
      "cell_type": "code",
      "source": [
        "model.summary()"
      ],
      "metadata": {
        "colab": {
          "base_uri": "https://localhost:8080/"
        },
        "id": "O-YohPsOrF92",
        "outputId": "f83697e5-6e60-4d50-d717-c5ff363063ae"
      },
      "execution_count": 47,
      "outputs": [
        {
          "output_type": "stream",
          "name": "stdout",
          "text": [
            "Model: \"sequential\"\n",
            "_________________________________________________________________\n",
            " Layer (type)                Output Shape              Param #   \n",
            "=================================================================\n",
            " lstm (LSTM)                 (None, 30, 512)           1107968   \n",
            "                                                                 \n",
            " dropout (Dropout)           (None, 30, 512)           0         \n",
            "                                                                 \n",
            " lstm_1 (LSTM)               (None, 512)               2099200   \n",
            "                                                                 \n",
            " dropout_1 (Dropout)         (None, 512)               0         \n",
            "                                                                 \n",
            " dense (Dense)               (None, 2)                 1026      \n",
            "                                                                 \n",
            " activation (Activation)     (None, 2)                 0         \n",
            "                                                                 \n",
            "=================================================================\n",
            "Total params: 3,208,194\n",
            "Trainable params: 3,208,194\n",
            "Non-trainable params: 0\n",
            "_________________________________________________________________\n"
          ]
        }
      ]
    },
    {
      "cell_type": "markdown",
      "source": [
        "**Hyperparameter Tuning**"
      ],
      "metadata": {
        "id": "85TuKhfXsFs5"
      }
    },
    {
      "cell_type": "code",
      "source": [
        "batch_size=1000\n",
        "model.fit(train_X, train_Y,batch_size=batch_size,epochs=50,validation_data=(test_X, test_Y))"
      ],
      "metadata": {
        "colab": {
          "base_uri": "https://localhost:8080/"
        },
        "id": "PiknhDjErGP_",
        "outputId": "85ad3e42-1923-4bbe-8600-6e25a1d4334c"
      },
      "execution_count": 50,
      "outputs": [
        {
          "output_type": "stream",
          "name": "stdout",
          "text": [
            "Epoch 1/50\n",
            "77/77 [==============================] - 28s 361ms/step - loss: 0.2954 - accuracy: 0.8752 - val_loss: 0.2967 - val_accuracy: 0.8734\n",
            "Epoch 2/50\n",
            "77/77 [==============================] - 28s 366ms/step - loss: 0.2875 - accuracy: 0.8779 - val_loss: 0.2956 - val_accuracy: 0.8732\n",
            "Epoch 3/50\n",
            "77/77 [==============================] - 28s 360ms/step - loss: 0.2769 - accuracy: 0.8837 - val_loss: 0.2974 - val_accuracy: 0.8739\n",
            "Epoch 4/50\n",
            "77/77 [==============================] - 28s 360ms/step - loss: 0.2754 - accuracy: 0.8845 - val_loss: 0.2866 - val_accuracy: 0.8807\n",
            "Epoch 5/50\n",
            "77/77 [==============================] - 28s 359ms/step - loss: 0.2638 - accuracy: 0.8893 - val_loss: 0.2747 - val_accuracy: 0.8855\n",
            "Epoch 6/50\n",
            "77/77 [==============================] - 28s 359ms/step - loss: 0.2564 - accuracy: 0.8933 - val_loss: 0.2809 - val_accuracy: 0.8827\n",
            "Epoch 7/50\n",
            "77/77 [==============================] - 28s 360ms/step - loss: 0.2509 - accuracy: 0.8960 - val_loss: 0.2743 - val_accuracy: 0.8900\n",
            "Epoch 8/50\n",
            "77/77 [==============================] - 28s 359ms/step - loss: 0.2466 - accuracy: 0.8968 - val_loss: 0.2750 - val_accuracy: 0.8836\n",
            "Epoch 9/50\n",
            "77/77 [==============================] - 28s 360ms/step - loss: 0.2437 - accuracy: 0.8991 - val_loss: 0.2643 - val_accuracy: 0.8911\n",
            "Epoch 10/50\n",
            "77/77 [==============================] - 28s 359ms/step - loss: 0.2338 - accuracy: 0.9033 - val_loss: 0.2619 - val_accuracy: 0.8924\n",
            "Epoch 11/50\n",
            "77/77 [==============================] - 28s 359ms/step - loss: 0.2270 - accuracy: 0.9067 - val_loss: 0.2654 - val_accuracy: 0.8900\n",
            "Epoch 12/50\n",
            "77/77 [==============================] - 28s 360ms/step - loss: 0.2206 - accuracy: 0.9093 - val_loss: 0.2584 - val_accuracy: 0.8934\n",
            "Epoch 13/50\n",
            "77/77 [==============================] - 28s 360ms/step - loss: 0.2153 - accuracy: 0.9114 - val_loss: 0.2491 - val_accuracy: 0.8974\n",
            "Epoch 14/50\n",
            "77/77 [==============================] - 28s 359ms/step - loss: 0.2116 - accuracy: 0.9133 - val_loss: 0.2631 - val_accuracy: 0.8988\n",
            "Epoch 15/50\n",
            "77/77 [==============================] - 28s 359ms/step - loss: 0.2037 - accuracy: 0.9157 - val_loss: 0.2720 - val_accuracy: 0.8912\n",
            "Epoch 16/50\n",
            "77/77 [==============================] - 28s 360ms/step - loss: 0.2038 - accuracy: 0.9168 - val_loss: 0.2758 - val_accuracy: 0.8981\n",
            "Epoch 17/50\n",
            "77/77 [==============================] - 28s 360ms/step - loss: 0.1927 - accuracy: 0.9220 - val_loss: 0.2577 - val_accuracy: 0.8994\n",
            "Epoch 18/50\n",
            "77/77 [==============================] - 28s 360ms/step - loss: 0.1881 - accuracy: 0.9228 - val_loss: 0.2572 - val_accuracy: 0.8994\n",
            "Epoch 19/50\n",
            "77/77 [==============================] - 28s 360ms/step - loss: 0.1793 - accuracy: 0.9270 - val_loss: 0.2524 - val_accuracy: 0.8995\n",
            "Epoch 20/50\n",
            "77/77 [==============================] - 28s 360ms/step - loss: 0.1744 - accuracy: 0.9298 - val_loss: 0.2548 - val_accuracy: 0.9013\n",
            "Epoch 21/50\n",
            "77/77 [==============================] - 28s 360ms/step - loss: 0.1679 - accuracy: 0.9312 - val_loss: 0.2586 - val_accuracy: 0.9024\n",
            "Epoch 22/50\n",
            "77/77 [==============================] - 28s 359ms/step - loss: 0.1636 - accuracy: 0.9333 - val_loss: 0.2650 - val_accuracy: 0.9015\n",
            "Epoch 23/50\n",
            "77/77 [==============================] - 28s 360ms/step - loss: 0.1566 - accuracy: 0.9373 - val_loss: 0.2597 - val_accuracy: 0.9016\n",
            "Epoch 24/50\n",
            "77/77 [==============================] - 28s 360ms/step - loss: 0.1503 - accuracy: 0.9395 - val_loss: 0.2594 - val_accuracy: 0.9042\n",
            "Epoch 25/50\n",
            "77/77 [==============================] - 28s 359ms/step - loss: 0.1465 - accuracy: 0.9413 - val_loss: 0.2587 - val_accuracy: 0.9059\n",
            "Epoch 26/50\n",
            "77/77 [==============================] - 28s 359ms/step - loss: 0.1379 - accuracy: 0.9443 - val_loss: 0.2686 - val_accuracy: 0.9058\n",
            "Epoch 27/50\n",
            "77/77 [==============================] - 28s 360ms/step - loss: 0.1356 - accuracy: 0.9453 - val_loss: 0.2779 - val_accuracy: 0.8994\n",
            "Epoch 28/50\n",
            "77/77 [==============================] - 28s 359ms/step - loss: 0.1303 - accuracy: 0.9480 - val_loss: 0.2612 - val_accuracy: 0.9052\n",
            "Epoch 29/50\n",
            "77/77 [==============================] - 28s 359ms/step - loss: 0.1193 - accuracy: 0.9532 - val_loss: 0.2888 - val_accuracy: 0.9059\n",
            "Epoch 30/50\n",
            "77/77 [==============================] - 28s 360ms/step - loss: 0.1121 - accuracy: 0.9550 - val_loss: 0.2899 - val_accuracy: 0.9022\n",
            "Epoch 31/50\n",
            "77/77 [==============================] - 28s 359ms/step - loss: 0.1122 - accuracy: 0.9549 - val_loss: 0.2859 - val_accuracy: 0.9074\n",
            "Epoch 32/50\n",
            "77/77 [==============================] - 28s 359ms/step - loss: 0.1021 - accuracy: 0.9591 - val_loss: 0.3053 - val_accuracy: 0.9040\n",
            "Epoch 33/50\n",
            "77/77 [==============================] - 28s 359ms/step - loss: 0.0976 - accuracy: 0.9604 - val_loss: 0.3091 - val_accuracy: 0.9012\n",
            "Epoch 34/50\n",
            "77/77 [==============================] - 28s 360ms/step - loss: 0.1043 - accuracy: 0.9577 - val_loss: 0.2982 - val_accuracy: 0.9045\n",
            "Epoch 35/50\n",
            "77/77 [==============================] - 28s 359ms/step - loss: 0.0901 - accuracy: 0.9643 - val_loss: 0.3241 - val_accuracy: 0.9079\n",
            "Epoch 36/50\n",
            "77/77 [==============================] - 28s 359ms/step - loss: 0.0847 - accuracy: 0.9657 - val_loss: 0.3314 - val_accuracy: 0.9074\n",
            "Epoch 37/50\n",
            "77/77 [==============================] - 28s 359ms/step - loss: 0.0778 - accuracy: 0.9691 - val_loss: 0.3353 - val_accuracy: 0.9044\n",
            "Epoch 38/50\n",
            "77/77 [==============================] - 28s 360ms/step - loss: 0.0739 - accuracy: 0.9709 - val_loss: 0.3412 - val_accuracy: 0.9072\n",
            "Epoch 39/50\n",
            "77/77 [==============================] - 28s 359ms/step - loss: 0.0711 - accuracy: 0.9721 - val_loss: 0.3510 - val_accuracy: 0.9058\n",
            "Epoch 40/50\n",
            "77/77 [==============================] - 28s 360ms/step - loss: 0.0660 - accuracy: 0.9742 - val_loss: 0.3294 - val_accuracy: 0.9068\n",
            "Epoch 41/50\n",
            "77/77 [==============================] - 28s 360ms/step - loss: 0.0626 - accuracy: 0.9749 - val_loss: 0.3846 - val_accuracy: 0.9068\n",
            "Epoch 42/50\n",
            "77/77 [==============================] - 28s 359ms/step - loss: 0.0573 - accuracy: 0.9770 - val_loss: 0.4239 - val_accuracy: 0.9066\n",
            "Epoch 43/50\n",
            "77/77 [==============================] - 28s 359ms/step - loss: 0.0516 - accuracy: 0.9798 - val_loss: 0.3729 - val_accuracy: 0.9075\n",
            "Epoch 44/50\n",
            "77/77 [==============================] - 28s 359ms/step - loss: 0.0618 - accuracy: 0.9763 - val_loss: 0.3775 - val_accuracy: 0.9033\n",
            "Epoch 45/50\n",
            "77/77 [==============================] - 28s 360ms/step - loss: 0.0459 - accuracy: 0.9824 - val_loss: 0.3923 - val_accuracy: 0.9076\n",
            "Epoch 46/50\n",
            "77/77 [==============================] - 28s 359ms/step - loss: 0.0515 - accuracy: 0.9801 - val_loss: 0.4138 - val_accuracy: 0.9035\n",
            "Epoch 47/50\n",
            "77/77 [==============================] - 28s 360ms/step - loss: 0.0424 - accuracy: 0.9838 - val_loss: 0.4582 - val_accuracy: 0.9062\n",
            "Epoch 48/50\n",
            "77/77 [==============================] - 28s 360ms/step - loss: 0.0393 - accuracy: 0.9853 - val_loss: 0.4215 - val_accuracy: 0.9044\n",
            "Epoch 49/50\n",
            "77/77 [==============================] - 28s 359ms/step - loss: 0.0381 - accuracy: 0.9853 - val_loss: 0.4168 - val_accuracy: 0.9074\n",
            "Epoch 50/50\n",
            "77/77 [==============================] - 28s 359ms/step - loss: 0.0394 - accuracy: 0.9855 - val_loss: 0.4259 - val_accuracy: 0.9035\n"
          ]
        },
        {
          "output_type": "execute_result",
          "data": {
            "text/plain": [
              "<keras.callbacks.History at 0x7fa1bf006e10>"
            ]
          },
          "metadata": {},
          "execution_count": 50
        }
      ]
    },
    {
      "cell_type": "markdown",
      "source": [
        "**Hyperparameter tuning**"
      ],
      "metadata": {
        "id": "5bS702TpsJsq"
      }
    },
    {
      "cell_type": "code",
      "source": [
        "batch_size=1000\n",
        "model.fit(train_X, train_Y,batch_size=batch_size,epochs=10,validation_data=(test_X, test_Y))"
      ],
      "metadata": {
        "colab": {
          "base_uri": "https://localhost:8080/"
        },
        "id": "LOJZpo5VqO0i",
        "outputId": "8a3128e5-d48c-4edd-da19-eb0f4798f04a"
      },
      "execution_count": 51,
      "outputs": [
        {
          "output_type": "stream",
          "name": "stdout",
          "text": [
            "Epoch 1/10\n",
            "77/77 [==============================] - 28s 361ms/step - loss: 0.0309 - accuracy: 0.9884 - val_loss: 0.4545 - val_accuracy: 0.9060\n",
            "Epoch 2/10\n",
            "77/77 [==============================] - 28s 358ms/step - loss: 0.0315 - accuracy: 0.9886 - val_loss: 0.4448 - val_accuracy: 0.8981\n",
            "Epoch 3/10\n",
            "77/77 [==============================] - 28s 360ms/step - loss: 0.0471 - accuracy: 0.9822 - val_loss: 0.4480 - val_accuracy: 0.9049\n",
            "Epoch 4/10\n",
            "77/77 [==============================] - 28s 359ms/step - loss: 0.0312 - accuracy: 0.9881 - val_loss: 0.4819 - val_accuracy: 0.9036\n",
            "Epoch 5/10\n",
            "77/77 [==============================] - 28s 359ms/step - loss: 0.0281 - accuracy: 0.9899 - val_loss: 0.4682 - val_accuracy: 0.9063\n",
            "Epoch 6/10\n",
            "77/77 [==============================] - 28s 360ms/step - loss: 0.0207 - accuracy: 0.9924 - val_loss: 0.4880 - val_accuracy: 0.9081\n",
            "Epoch 7/10\n",
            "77/77 [==============================] - 28s 359ms/step - loss: 0.0254 - accuracy: 0.9909 - val_loss: 0.4428 - val_accuracy: 0.9081\n",
            "Epoch 8/10\n",
            "77/77 [==============================] - 28s 360ms/step - loss: 0.0281 - accuracy: 0.9899 - val_loss: 0.4651 - val_accuracy: 0.9058\n",
            "Epoch 9/10\n",
            "77/77 [==============================] - 28s 360ms/step - loss: 0.0282 - accuracy: 0.9895 - val_loss: 0.4894 - val_accuracy: 0.9035\n",
            "Epoch 10/10\n",
            "77/77 [==============================] - 28s 359ms/step - loss: 0.0209 - accuracy: 0.9924 - val_loss: 0.5239 - val_accuracy: 0.9045\n"
          ]
        },
        {
          "output_type": "execute_result",
          "data": {
            "text/plain": [
              "<keras.callbacks.History at 0x7fa1bee0dcd0>"
            ]
          },
          "metadata": {},
          "execution_count": 51
        }
      ]
    },
    {
      "cell_type": "code",
      "source": [
        "batch_size=1000\n",
        "model.fit(train_X, train_Y,batch_size=batch_size,epochs=20,validation_data=(test_X, test_Y))"
      ],
      "metadata": {
        "colab": {
          "base_uri": "https://localhost:8080/"
        },
        "id": "_eITZAPqBdmu",
        "outputId": "c4e3692b-6ce7-4e65-a522-a2435d393efb"
      },
      "execution_count": 52,
      "outputs": [
        {
          "output_type": "stream",
          "name": "stdout",
          "text": [
            "Epoch 1/20\n",
            "77/77 [==============================] - 28s 361ms/step - loss: 0.0172 - accuracy: 0.9939 - val_loss: 0.5043 - val_accuracy: 0.9053\n",
            "Epoch 2/20\n",
            "77/77 [==============================] - 28s 361ms/step - loss: 0.0177 - accuracy: 0.9941 - val_loss: 0.4551 - val_accuracy: 0.9053\n",
            "Epoch 3/20\n",
            "77/77 [==============================] - 28s 360ms/step - loss: 0.0208 - accuracy: 0.9927 - val_loss: 0.4560 - val_accuracy: 0.9079\n",
            "Epoch 4/20\n",
            "77/77 [==============================] - 28s 359ms/step - loss: 0.0191 - accuracy: 0.9937 - val_loss: 0.5285 - val_accuracy: 0.9069\n",
            "Epoch 5/20\n",
            "77/77 [==============================] - 28s 359ms/step - loss: 0.0171 - accuracy: 0.9944 - val_loss: 0.5029 - val_accuracy: 0.9051\n",
            "Epoch 6/20\n",
            "77/77 [==============================] - 28s 360ms/step - loss: 0.0226 - accuracy: 0.9922 - val_loss: 0.5019 - val_accuracy: 0.9074\n",
            "Epoch 7/20\n",
            "77/77 [==============================] - 28s 359ms/step - loss: 0.0181 - accuracy: 0.9939 - val_loss: 0.4415 - val_accuracy: 0.9078\n",
            "Epoch 8/20\n",
            "77/77 [==============================] - 28s 360ms/step - loss: 0.0130 - accuracy: 0.9958 - val_loss: 0.5198 - val_accuracy: 0.9085\n",
            "Epoch 9/20\n",
            "77/77 [==============================] - 28s 359ms/step - loss: 0.0134 - accuracy: 0.9954 - val_loss: 0.5739 - val_accuracy: 0.9057\n",
            "Epoch 10/20\n",
            "77/77 [==============================] - 28s 359ms/step - loss: 0.0205 - accuracy: 0.9926 - val_loss: 0.5040 - val_accuracy: 0.9070\n",
            "Epoch 11/20\n",
            "77/77 [==============================] - 28s 359ms/step - loss: 0.0118 - accuracy: 0.9957 - val_loss: 0.5232 - val_accuracy: 0.9068\n",
            "Epoch 12/20\n",
            "77/77 [==============================] - 28s 360ms/step - loss: 0.0232 - accuracy: 0.9920 - val_loss: 0.4693 - val_accuracy: 0.9044\n",
            "Epoch 13/20\n",
            "77/77 [==============================] - 28s 359ms/step - loss: 0.0118 - accuracy: 0.9960 - val_loss: 0.5206 - val_accuracy: 0.9052\n",
            "Epoch 14/20\n",
            "77/77 [==============================] - 28s 360ms/step - loss: 0.0106 - accuracy: 0.9966 - val_loss: 0.4990 - val_accuracy: 0.9099\n",
            "Epoch 15/20\n",
            "77/77 [==============================] - 28s 359ms/step - loss: 0.0249 - accuracy: 0.9918 - val_loss: 0.5026 - val_accuracy: 0.9052\n",
            "Epoch 16/20\n",
            "77/77 [==============================] - 28s 360ms/step - loss: 0.0121 - accuracy: 0.9960 - val_loss: 0.5118 - val_accuracy: 0.9074\n",
            "Epoch 17/20\n",
            "77/77 [==============================] - 28s 359ms/step - loss: 0.0115 - accuracy: 0.9962 - val_loss: 0.5300 - val_accuracy: 0.9062\n",
            "Epoch 18/20\n",
            "77/77 [==============================] - 28s 360ms/step - loss: 0.0196 - accuracy: 0.9936 - val_loss: 0.5242 - val_accuracy: 0.9060\n",
            "Epoch 19/20\n",
            "77/77 [==============================] - 28s 360ms/step - loss: 0.0278 - accuracy: 0.9905 - val_loss: 0.5141 - val_accuracy: 0.9086\n",
            "Epoch 20/20\n",
            "77/77 [==============================] - 28s 360ms/step - loss: 0.0151 - accuracy: 0.9953 - val_loss: 0.4893 - val_accuracy: 0.9089\n"
          ]
        },
        {
          "output_type": "execute_result",
          "data": {
            "text/plain": [
              "<keras.callbacks.History at 0x7fa1bee96c50>"
            ]
          },
          "metadata": {},
          "execution_count": 52
        }
      ]
    },
    {
      "cell_type": "code",
      "source": [
        "batch_size=1000\n",
        "model.fit(train_X, train_Y,batch_size=batch_size,epochs=30,validation_data=(test_X, test_Y))"
      ],
      "metadata": {
        "colab": {
          "base_uri": "https://localhost:8080/"
        },
        "id": "Kc7FrBz-CqwW",
        "outputId": "612a23e0-9f2f-4377-f857-55b0deeb0184"
      },
      "execution_count": 53,
      "outputs": [
        {
          "output_type": "stream",
          "name": "stdout",
          "text": [
            "Epoch 1/30\n",
            "77/77 [==============================] - 28s 361ms/step - loss: 0.0086 - accuracy: 0.9973 - val_loss: 0.5246 - val_accuracy: 0.9079\n",
            "Epoch 2/30\n",
            "77/77 [==============================] - 28s 361ms/step - loss: 0.0153 - accuracy: 0.9952 - val_loss: 0.4876 - val_accuracy: 0.9092\n",
            "Epoch 3/30\n",
            "77/77 [==============================] - 28s 359ms/step - loss: 0.0095 - accuracy: 0.9969 - val_loss: 0.5502 - val_accuracy: 0.9071\n",
            "Epoch 4/30\n",
            "77/77 [==============================] - 28s 359ms/step - loss: 0.0092 - accuracy: 0.9968 - val_loss: 0.5164 - val_accuracy: 0.9084\n",
            "Epoch 5/30\n",
            "77/77 [==============================] - 28s 360ms/step - loss: 0.0099 - accuracy: 0.9968 - val_loss: 0.5074 - val_accuracy: 0.9069\n",
            "Epoch 6/30\n",
            "77/77 [==============================] - 28s 360ms/step - loss: 0.0192 - accuracy: 0.9933 - val_loss: 0.5072 - val_accuracy: 0.9059\n",
            "Epoch 7/30\n",
            "77/77 [==============================] - 28s 360ms/step - loss: 0.0090 - accuracy: 0.9971 - val_loss: 0.5249 - val_accuracy: 0.9074\n",
            "Epoch 8/30\n",
            "77/77 [==============================] - 28s 359ms/step - loss: 0.0079 - accuracy: 0.9972 - val_loss: 0.6128 - val_accuracy: 0.9062\n",
            "Epoch 9/30\n",
            "77/77 [==============================] - 28s 360ms/step - loss: 0.0083 - accuracy: 0.9972 - val_loss: 0.5591 - val_accuracy: 0.9050\n",
            "Epoch 10/30\n",
            "77/77 [==============================] - 28s 360ms/step - loss: 0.0075 - accuracy: 0.9976 - val_loss: 0.5319 - val_accuracy: 0.9102\n",
            "Epoch 11/30\n",
            "77/77 [==============================] - 28s 359ms/step - loss: 0.0073 - accuracy: 0.9978 - val_loss: 0.5460 - val_accuracy: 0.9086\n",
            "Epoch 12/30\n",
            "77/77 [==============================] - 28s 359ms/step - loss: 0.0088 - accuracy: 0.9974 - val_loss: 0.5482 - val_accuracy: 0.9077\n",
            "Epoch 13/30\n",
            "77/77 [==============================] - 28s 360ms/step - loss: 0.0072 - accuracy: 0.9979 - val_loss: 0.5631 - val_accuracy: 0.9080\n",
            "Epoch 14/30\n",
            "77/77 [==============================] - 28s 365ms/step - loss: 0.0104 - accuracy: 0.9967 - val_loss: 0.5552 - val_accuracy: 0.9059\n",
            "Epoch 15/30\n",
            "77/77 [==============================] - 28s 360ms/step - loss: 0.0099 - accuracy: 0.9967 - val_loss: 0.5536 - val_accuracy: 0.9072\n",
            "Epoch 16/30\n",
            "77/77 [==============================] - 28s 360ms/step - loss: 0.0126 - accuracy: 0.9958 - val_loss: 0.5613 - val_accuracy: 0.9101\n",
            "Epoch 17/30\n",
            "77/77 [==============================] - 28s 360ms/step - loss: 0.0084 - accuracy: 0.9973 - val_loss: 0.6019 - val_accuracy: 0.9081\n",
            "Epoch 18/30\n",
            "77/77 [==============================] - 28s 360ms/step - loss: 0.0099 - accuracy: 0.9970 - val_loss: 0.4632 - val_accuracy: 0.9079\n",
            "Epoch 19/30\n",
            "77/77 [==============================] - 28s 359ms/step - loss: 0.0094 - accuracy: 0.9971 - val_loss: 0.4697 - val_accuracy: 0.9109\n",
            "Epoch 20/30\n",
            "77/77 [==============================] - 28s 359ms/step - loss: 0.0065 - accuracy: 0.9980 - val_loss: 0.5009 - val_accuracy: 0.9091\n",
            "Epoch 21/30\n",
            "77/77 [==============================] - 28s 360ms/step - loss: 0.0130 - accuracy: 0.9959 - val_loss: 0.5146 - val_accuracy: 0.9087\n",
            "Epoch 22/30\n",
            "77/77 [==============================] - 28s 365ms/step - loss: 0.0130 - accuracy: 0.9960 - val_loss: 0.4655 - val_accuracy: 0.9101\n",
            "Epoch 23/30\n",
            "77/77 [==============================] - 28s 358ms/step - loss: 0.0088 - accuracy: 0.9972 - val_loss: 0.5328 - val_accuracy: 0.9103\n",
            "Epoch 24/30\n",
            "77/77 [==============================] - 28s 360ms/step - loss: 0.0067 - accuracy: 0.9979 - val_loss: 0.5827 - val_accuracy: 0.9084\n",
            "Epoch 25/30\n",
            "77/77 [==============================] - 28s 359ms/step - loss: 0.0079 - accuracy: 0.9976 - val_loss: 0.5767 - val_accuracy: 0.9081\n",
            "Epoch 26/30\n",
            "77/77 [==============================] - 28s 359ms/step - loss: 0.0063 - accuracy: 0.9981 - val_loss: 0.5200 - val_accuracy: 0.9096\n",
            "Epoch 27/30\n",
            "77/77 [==============================] - 28s 360ms/step - loss: 0.0091 - accuracy: 0.9971 - val_loss: 0.5409 - val_accuracy: 0.9087\n",
            "Epoch 28/30\n",
            "77/77 [==============================] - 28s 359ms/step - loss: 0.0084 - accuracy: 0.9974 - val_loss: 0.5405 - val_accuracy: 0.9090\n",
            "Epoch 29/30\n",
            "77/77 [==============================] - 28s 366ms/step - loss: 0.0065 - accuracy: 0.9980 - val_loss: 0.6325 - val_accuracy: 0.9099\n",
            "Epoch 30/30\n",
            "77/77 [==============================] - 28s 360ms/step - loss: 0.0048 - accuracy: 0.9986 - val_loss: 0.5444 - val_accuracy: 0.9095\n"
          ]
        },
        {
          "output_type": "execute_result",
          "data": {
            "text/plain": [
              "<keras.callbacks.History at 0x7fa1beeac390>"
            ]
          },
          "metadata": {},
          "execution_count": 53
        }
      ]
    },
    {
      "cell_type": "code",
      "source": [
        "score, acc = model.evaluate(test_X, test_Y)\n",
        "print('Test score:', score)\n",
        "print('Test accuracy:', acc)"
      ],
      "metadata": {
        "colab": {
          "base_uri": "https://localhost:8080/"
        },
        "id": "rdiezpRiE_2g",
        "outputId": "014a125a-e89e-4a1b-c22c-172cb890e291"
      },
      "execution_count": 54,
      "outputs": [
        {
          "output_type": "stream",
          "name": "stdout",
          "text": [
            "593/593 [==============================] - 9s 15ms/step - loss: 0.5444 - accuracy: 0.9095\n",
            "Test score: 0.54440838098526\n",
            "Test accuracy: 0.909517765045166\n"
          ]
        }
      ]
    }
  ]
}